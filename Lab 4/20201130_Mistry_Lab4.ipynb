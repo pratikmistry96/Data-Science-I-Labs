{
 "cells": [
  {
   "cell_type": "markdown",
   "metadata": {},
   "source": [
    "# Data Science I - Lab 4 - pd.merge\n",
    "\n",
    "**Author:** Pratik Mistry\n",
    "\n",
    "**Date:** 30 November 2020\n",
    "\n",
    "**GitHub Link:** https://github.com/pratikmistry96/Data-Science-I-Labs/tree/master/Lab%204\n",
    "\n",
    "## Introduction:\n",
    "\n",
    "In this lab, we will get familiar using the Python programming language and the different packages to manipulate and process data. More specifically, we will gain an understanding of how to work with Pandas data frames and use functions like pd.merge to combine multiple datasets."
   ]
  },
  {
   "cell_type": "markdown",
   "metadata": {},
   "source": [
    "## Load Packages\n"
   ]
  },
  {
   "cell_type": "code",
   "execution_count": 21,
   "metadata": {},
   "outputs": [],
   "source": [
    "## Import packages/libraries to process and manipulate data\n",
    "import pandas as pd # Load pandas\n",
    "import matplotlib.pyplot as plt # Load matplotlib\n",
    "import seaborn as sns # Load seaborns\n",
    "import numpy as np # Load numpy"
   ]
  },
  {
   "cell_type": "markdown",
   "metadata": {},
   "source": [
    "## Questions: \n",
    "\n",
    "### 1) Read in the file 'listings' that contains the listings for the Boston AirBnBs. How many entries are in the file? How many unique identifiers are there for AirBnB listings?"
   ]
  },
  {
   "cell_type": "code",
   "execution_count": 22,
   "metadata": {},
   "outputs": [
    {
     "name": "stdout",
     "output_type": "stream",
     "text": [
      "Number of Entries: 6264\n",
      "Number of Unique Listings 6264\n"
     ]
    }
   ],
   "source": [
    "listings = pd.read_csv('data/listings.csv') # Read listings csv as a pandas data frame\n",
    "print('Number of Entries: {}'.format(listings.shape[0])) # Pull the number of rows as number of entries\n",
    "print('Number of Unique Listings {}'.format(listings.nunique()['id'])) # # Pull number of unique listing IDs"
   ]
  },
  {
   "cell_type": "markdown",
   "metadata": {},
   "source": [
    "**Answer:** \n",
    "\n",
    "Number of Entries: 6264\n",
    "\n",
    "Number of Unique Listings 6264"
   ]
  },
  {
   "cell_type": "markdown",
   "metadata": {},
   "source": [
    "### 2) Read in the 'reviews' file that contains the date of reviews for the Boston AirBnB listings. How many entries are in the file? How many unique identifiers are there for AirBnB listings?"
   ]
  },
  {
   "cell_type": "code",
   "execution_count": 23,
   "metadata": {},
   "outputs": [
    {
     "name": "stdout",
     "output_type": "stream",
     "text": [
      "Number of Entries: 225880\n",
      "Number of Unique Listings 5088\n"
     ]
    }
   ],
   "source": [
    "reviews = pd.read_csv('data/reviews.csv') # Read reviews csv as pandas data frame\n",
    "print('Number of Entries: {}'.format(reviews.shape[0])) # Pull number of rows as number of entries\n",
    "print('Number of Unique Listings {}'.format(reviews.nunique()['listing_id'])) # Pull number of unique listing IDs"
   ]
  },
  {
   "cell_type": "markdown",
   "metadata": {},
   "source": [
    "**Answer:** \n",
    "\n",
    "Number of Entries: 225880\n",
    "\n",
    "Number of Unique Listings 5088"
   ]
  },
  {
   "cell_type": "markdown",
   "metadata": {},
   "source": [
    "### 3) Merge the review and listing files. Do a merge using the function 'pd.merge' so that all of the entries from listing are in the merged data frame and have an NaN if there is no corresponding entry in reviews. How many rows do you now have? How many unique AirBnB ids do you have? How many rows were filled in with NaN?"
   ]
  },
  {
   "cell_type": "code",
   "execution_count": 24,
   "metadata": {},
   "outputs": [],
   "source": [
    "# Left merge the two data sets \n",
    "left_merged_data = pd.merge(listings, reviews, left_on = \"id\", right_on = \"listing_id\", how = 'left') # Merge listings and review using the 'left' method"
   ]
  },
  {
   "cell_type": "code",
   "execution_count": 25,
   "metadata": {},
   "outputs": [
    {
     "name": "stdout",
     "output_type": "stream",
     "text": [
      "Number of Entries: 227056\n",
      "Number of Unique Listings: 6264\n",
      "Number of Rows with NaNs: 1176\n"
     ]
    }
   ],
   "source": [
    "print('Number of Entries: {}'.format(left_merged_data.shape[0])) # Print the number of rows - number of entries\n",
    "print('Number of Unique Listings: {}'.format(left_merged_data.nunique()['id'])) # Print the unique number of listings\n",
    "print('Number of Rows with NaNs: {}'.format(left_merged_data['listing_id'].isnull().sum())) # Print the number of rows with NaNs"
   ]
  },
  {
   "cell_type": "markdown",
   "metadata": {},
   "source": [
    "**Answer:** \n",
    "\n",
    "Number of Entries: 227056\n",
    "\n",
    "Number of Unique Listings: 6264\n",
    "\n",
    "Number of Rows with NaNs: 1176"
   ]
  },
  {
   "cell_type": "markdown",
   "metadata": {},
   "source": [
    "### 4) Merge the review and listing files again using 'pd.merge'. This time do a merge so that all of the entries from reviews are in the dataframe (and therefore any entries from listings that do not have a review are dropped). How many rows do you now have? How many unique AirBnB ids do you have?"
   ]
  },
  {
   "cell_type": "code",
   "execution_count": 26,
   "metadata": {},
   "outputs": [],
   "source": [
    "inner_merged_data = pd.merge(listings, reviews, left_on = \"id\", right_on = \"listing_id\", how = 'inner') # Merge listings and reviews using the 'inner' method"
   ]
  },
  {
   "cell_type": "code",
   "execution_count": 27,
   "metadata": {
    "scrolled": true
   },
   "outputs": [
    {
     "name": "stdout",
     "output_type": "stream",
     "text": [
      "Number of Entries: 225880\n",
      "Number of Unique Listings: 5088\n"
     ]
    }
   ],
   "source": [
    "print('Number of Entries: {}'.format(inner_merged_data.shape[0])) # Print the number of rows - number of entries\n",
    "print('Number of Unique Listings: {}'.format(inner_merged_data.nunique()['id'])) # Print unique number of listings"
   ]
  },
  {
   "cell_type": "markdown",
   "metadata": {},
   "source": [
    "**Answer:**\n",
    "\n",
    "Number of Entries: 225880\n",
    "\n",
    "Number of Unique Listings: 5088"
   ]
  },
  {
   "cell_type": "markdown",
   "metadata": {},
   "source": [
    "### 5) Accoring to AirBnB superhosts 'are experienced hosts who provide a shining example for other hosts, and extraordinary experiences for their guests'. How many unique AirBnBs are hosted by a 'superhost' in Boston? How many superhosts are there in Boston? How many super hosts do not have any reviews in the 'reviews' dataset? What is the median number of reviews that a superhost has in the 'reviews' dataset?"
   ]
  },
  {
   "cell_type": "code",
   "execution_count": 28,
   "metadata": {},
   "outputs": [],
   "source": [
    "listing_superhost = listings[listings['host_is_superhost'].isin(['t'])].nunique()['id'] # Pull the number of unique listing ids for superhosts\n",
    "n_superhosts = listings[listings['host_is_superhost'].isin(['t'])].nunique()['host_id'] # Print total number of superhosts\n",
    "\n",
    "superhost_data = inner_merged_data[inner_merged_data['host_is_superhost'].isin(['t'])] # Pull superhost data from data with reviews\n",
    "non_superhost_data = inner_merged_data[inner_merged_data['host_is_superhost'].isin(['f'])] # Pull non-superhost data with reviews\n",
    "\n",
    "reviews_n_superhosts = superhost_data.nunique()['host_id'] # Number of superhosts with reviews"
   ]
  },
  {
   "cell_type": "code",
   "execution_count": 29,
   "metadata": {
    "scrolled": true
   },
   "outputs": [
    {
     "name": "stdout",
     "output_type": "stream",
     "text": [
      "Number of Unique AirBnBs hosted by Superhost: 1448\n",
      "Number of Superhost in Boston: 757\n",
      "There are 6 superhosts who do not have reviews\n",
      "Median Number of Reviews for Superhost: 41.0\n"
     ]
    }
   ],
   "source": [
    "print('Number of Unique AirBnBs hosted by Superhost: {}'.format(listing_superhost)) # Print number of unique listings hosted by superhosts\n",
    "print('Number of Superhost in Boston: {}'.format(n_superhosts)) # Print the number of superhosts in boston\n",
    "print('There are {} superhosts who do not have reviews'.format(n_superhosts - reviews_n_superhosts)) # Print the number of superhosts who don't have reviews\n",
    "print('Median Number of Reviews for Superhost: {}'.format(listings[listings['host_is_superhost'].isin(['t'])]['number_of_reviews'].median())) # Print the median number of reviews for a superhost"
   ]
  },
  {
   "cell_type": "markdown",
   "metadata": {},
   "source": [
    "**Answer:**\n",
    "\n",
    "Number of Unique AirBnBs hosted by Superhost: 1448\n",
    "\n",
    "Number of Superhost in Boston: 757\n",
    "\n",
    "There are 6 superhosts who do not have reviews\n",
    "\n",
    "Median Number of Reviews for Superhost: 41.0"
   ]
  },
  {
   "cell_type": "markdown",
   "metadata": {},
   "source": [
    "### 6) Make boxplots to compare the number of reviews of superhosts to non-superhosts. Hint: the boxplots may look better if you log the counts! Add 1 to the number of counts so that you can log values of 0."
   ]
  },
  {
   "cell_type": "code",
   "execution_count": 30,
   "metadata": {},
   "outputs": [
    {
     "data": {
      "text/plain": [
       "Text(0.5, 1.0, 'Number of Reviews by Host Status')"
      ]
     },
     "execution_count": 30,
     "metadata": {},
     "output_type": "execute_result"
    },
    {
     "data": {
      "image/png": "[encoded data removed]",
      "text/plain": [
       "<Figure size 432x288 with 1 Axes>"
      ]
     },
     "metadata": {
      "needs_background": "light"
     },
     "output_type": "display_data"
    }
   ],
   "source": [
    "listings['number_of_reviews'] = np.log10(listings['number_of_reviews'] + 1) # Add 1 to number of reviews in listing data frame and take the log of those values\n",
    "fig = sns.boxplot(x = 'host_is_superhost', y = 'number_of_reviews', data = listings) # Create a boxplot for the number of reviews\n",
    "fig.set_xticklabels(('Superhost','Not Superhost')) # Label the x ticks\n",
    "fig.set_xlabel('Host Status') # Label x axis\n",
    "fig.set_ylabel('Number of Reviews - Log Scale') # Label the y axis\n",
    "fig.set_title('Number of Reviews by Host Status') # Title the figure"
   ]
  }
 ],
 "metadata": {
  "kernelspec": {
   "display_name": "Python 3",
   "language": "python",
   "name": "python3"
  },
  "language_info": {
   "codemirror_mode": {
    "name": "ipython",
    "version": 3
   },
   "file_extension": ".py",
   "mimetype": "text/x-python",
   "name": "python",
   "nbconvert_exporter": "python",
   "pygments_lexer": "ipython3",
   "version": "3.8.3"
  },
  "varInspector": {
   "cols": {
    "lenName": 16,
    "lenType": 16,
    "lenVar": 40
   },
   "kernels_config": {
    "python": {
     "delete_cmd_postfix": "",
     "delete_cmd_prefix": "del ",
     "library": "var_list.py",
     "varRefreshCmd": "print(var_dic_list())"
    },
    "r": {
     "delete_cmd_postfix": ") ",
     "delete_cmd_prefix": "rm(",
     "library": "var_list.r",
     "varRefreshCmd": "cat(var_dic_list()) "
    }
   },
   "oldHeight": 589,
   "position": {
    "height": "611px",
    "left": "1547px",
    "right": "20px",
    "top": "120px",
    "width": "353px"
   },
   "types_to_exclude": [
    "module",
    "function",
    "builtin_function_or_method",
    "instance",
    "_Feature"
   ],
   "varInspector_section_display": "block",
   "window_display": true
  }
 },
 "nbformat": 4,
 "nbformat_minor": 4
}
