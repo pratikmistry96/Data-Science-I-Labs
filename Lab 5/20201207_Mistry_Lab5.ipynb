{
 "cells": [
  {
   "cell_type": "markdown",
   "metadata": {},
   "source": [
    "# Data Science I - Lab 5\n",
    "\n",
    "**Author:** Pratik Mistry\n",
    "\n",
    "**Date:** 07 December 2020\n",
    "\n",
    "**GitHub Link:** https://github.com/pratikmistry96/Data-Science-I-Labs/tree/master/Lab%204"
   ]
  },
  {
   "cell_type": "markdown",
   "metadata": {},
   "source": [
    "# Introduction\n",
    "\n",
    "This lab is an introduction to unsupervised learning methods, specifically, clustering methods, like K-Means and Heirarchical Modeling"
   ]
  },
  {
   "cell_type": "code",
   "execution_count": 251,
   "metadata": {},
   "outputs": [],
   "source": [
    "# Load Libraries\n",
    "import numpy as np\n",
    "import pandas as pd\n",
    "import matplotlib.pyplot as plt\n",
    "from sklearn.datasets import make_blobs\n",
    "from sklearn.cluster import KMeans, AgglomerativeClustering\n",
    "import scipy.cluster.hierarchy as shc\n",
    "from sklearn.preprocessing import StandardScaler"
   ]
  },
  {
   "cell_type": "markdown",
   "metadata": {},
   "source": [
    "# Problems:\n",
    "\n",
    "## 1) K-Means Practice\n",
    "In this problem, you will generate simulated data, and then perform K-means clustering on the data."
   ]
  },
  {
   "cell_type": "markdown",
   "metadata": {},
   "source": [
    "### 1a) Generate a simulated data set with 20 observations in each of three classes (i.e. 60 observations total), and 50 variables."
   ]
  },
  {
   "cell_type": "code",
   "execution_count": 252,
   "metadata": {
    "scrolled": true
   },
   "outputs": [],
   "source": [
    "# Simulate dataset with 60 samples, 50 features, and 3 clusters\n",
    "X, y = make_blobs(n_samples = 60, n_features = 50, centers = 3, random_state = 96)\n",
    "cluster_df = pd.DataFrame(y,columns=['truth'])"
   ]
  },
  {
   "cell_type": "markdown",
   "metadata": {},
   "source": [
    "### 1b) Perform K-means clustering of the observations with K = 3. How well do the clusters that you obtained in K-means clustering compare to the true class labels (Hint: use pd.crosstab to make a contingency table of the results)?"
   ]
  },
  {
   "cell_type": "code",
   "execution_count": 253,
   "metadata": {
    "scrolled": false
   },
   "outputs": [
    {
     "data": {
      "text/html": [
       "<div>\n",
       "<style scoped>\n",
       "    .dataframe tbody tr th:only-of-type {\n",
       "        vertical-align: middle;\n",
       "    }\n",
       "\n",
       "    .dataframe tbody tr th {\n",
       "        vertical-align: top;\n",
       "    }\n",
       "\n",
       "    .dataframe thead th {\n",
       "        text-align: right;\n",
       "    }\n",
       "</style>\n",
       "<table border=\"1\" class=\"dataframe\">\n",
       "  <thead>\n",
       "    <tr style=\"text-align: right;\">\n",
       "      <th>k=3</th>\n",
       "      <th>0</th>\n",
       "      <th>1</th>\n",
       "      <th>2</th>\n",
       "    </tr>\n",
       "    <tr>\n",
       "      <th>truth</th>\n",
       "      <th></th>\n",
       "      <th></th>\n",
       "      <th></th>\n",
       "    </tr>\n",
       "  </thead>\n",
       "  <tbody>\n",
       "    <tr>\n",
       "      <th>0</th>\n",
       "      <td>20</td>\n",
       "      <td>0</td>\n",
       "      <td>0</td>\n",
       "    </tr>\n",
       "    <tr>\n",
       "      <th>1</th>\n",
       "      <td>0</td>\n",
       "      <td>0</td>\n",
       "      <td>20</td>\n",
       "    </tr>\n",
       "    <tr>\n",
       "      <th>2</th>\n",
       "      <td>0</td>\n",
       "      <td>20</td>\n",
       "      <td>0</td>\n",
       "    </tr>\n",
       "  </tbody>\n",
       "</table>\n",
       "</div>"
      ],
      "text/plain": [
       "k=3     0   1   2\n",
       "truth            \n",
       "0      20   0   0\n",
       "1       0   0  20\n",
       "2       0  20   0"
      ]
     },
     "execution_count": 253,
     "metadata": {},
     "output_type": "execute_result"
    }
   ],
   "source": [
    "# 1b) Perform k-means using K = 3\n",
    "kmeans_k_3 = KMeans(n_clusters = 3,random_state = 8)\n",
    "kmeans_k_3.fit(X)\n",
    "cluster_df['k=3'] = kmeans_k_3.predict(X)\n",
    "\n",
    "pd.crosstab(cluster_df['truth'],cluster_df['k=3'])"
   ]
  },
  {
   "cell_type": "markdown",
   "metadata": {},
   "source": [
    "From the contigency table, we see that the predicted 3 clusters from the k means algorithm and the 3 truth cluster values all fall into 3 distinct combinations. \n",
    "\n",
    "Truth Cluster 0 = K Means Cluster 0\n",
    "\n",
    "Truth Cluster 1 = K Means Cluster 2\n",
    "\n",
    "Truth Cluster 2 = K Means Cluster 1"
   ]
  },
  {
   "cell_type": "markdown",
   "metadata": {},
   "source": [
    "### 1c) Perform K-means clustering with K = 2. Describe your results"
   ]
  },
  {
   "cell_type": "code",
   "execution_count": 254,
   "metadata": {
    "scrolled": false
   },
   "outputs": [
    {
     "data": {
      "text/html": [
       "<div>\n",
       "<style scoped>\n",
       "    .dataframe tbody tr th:only-of-type {\n",
       "        vertical-align: middle;\n",
       "    }\n",
       "\n",
       "    .dataframe tbody tr th {\n",
       "        vertical-align: top;\n",
       "    }\n",
       "\n",
       "    .dataframe thead th {\n",
       "        text-align: right;\n",
       "    }\n",
       "</style>\n",
       "<table border=\"1\" class=\"dataframe\">\n",
       "  <thead>\n",
       "    <tr style=\"text-align: right;\">\n",
       "      <th>k=2</th>\n",
       "      <th>0</th>\n",
       "      <th>1</th>\n",
       "    </tr>\n",
       "    <tr>\n",
       "      <th>truth</th>\n",
       "      <th></th>\n",
       "      <th></th>\n",
       "    </tr>\n",
       "  </thead>\n",
       "  <tbody>\n",
       "    <tr>\n",
       "      <th>0</th>\n",
       "      <td>0</td>\n",
       "      <td>20</td>\n",
       "    </tr>\n",
       "    <tr>\n",
       "      <th>1</th>\n",
       "      <td>20</td>\n",
       "      <td>0</td>\n",
       "    </tr>\n",
       "    <tr>\n",
       "      <th>2</th>\n",
       "      <td>0</td>\n",
       "      <td>20</td>\n",
       "    </tr>\n",
       "  </tbody>\n",
       "</table>\n",
       "</div>"
      ],
      "text/plain": [
       "k=2     0   1\n",
       "truth        \n",
       "0       0  20\n",
       "1      20   0\n",
       "2       0  20"
      ]
     },
     "execution_count": 254,
     "metadata": {},
     "output_type": "execute_result"
    }
   ],
   "source": [
    "# 1b) Perform k-means using K = 3\n",
    "kmeans_k_2 = KMeans(n_clusters = 2,random_state=8)\n",
    "kmeans_k_2.fit(X)\n",
    "cluster_df['k=2'] = kmeans_k_2.predict(X)\n",
    "\n",
    "pd.crosstab(cluster_df['truth'],cluster_df['k=2'])"
   ]
  },
  {
   "cell_type": "markdown",
   "metadata": {},
   "source": [
    "From the contigency table, using 2 clusters for the k-means algorithm, we see that there are not 3 distinct clusters, and that the ground truth clusters of 0 and 2 are grouped into one cluster from the k-means algorithm and the that the ground truth cluster of 2 matches the k-means cluster id of 1.\n",
    "\n",
    "Ground Truth Cluster 0 & 2 = K Means Cluster 0\n",
    "\n",
    "Ground Truth Cluster 1 = K Means Cluster 1"
   ]
  },
  {
   "cell_type": "markdown",
   "metadata": {},
   "source": [
    "### 1d) Now perform K-means clustering with K = 4 and describe your results"
   ]
  },
  {
   "cell_type": "code",
   "execution_count": 255,
   "metadata": {
    "scrolled": true
   },
   "outputs": [
    {
     "data": {
      "text/html": [
       "<div>\n",
       "<style scoped>\n",
       "    .dataframe tbody tr th:only-of-type {\n",
       "        vertical-align: middle;\n",
       "    }\n",
       "\n",
       "    .dataframe tbody tr th {\n",
       "        vertical-align: top;\n",
       "    }\n",
       "\n",
       "    .dataframe thead th {\n",
       "        text-align: right;\n",
       "    }\n",
       "</style>\n",
       "<table border=\"1\" class=\"dataframe\">\n",
       "  <thead>\n",
       "    <tr style=\"text-align: right;\">\n",
       "      <th>k=4</th>\n",
       "      <th>0</th>\n",
       "      <th>1</th>\n",
       "      <th>2</th>\n",
       "      <th>3</th>\n",
       "    </tr>\n",
       "    <tr>\n",
       "      <th>truth</th>\n",
       "      <th></th>\n",
       "      <th></th>\n",
       "      <th></th>\n",
       "      <th></th>\n",
       "    </tr>\n",
       "  </thead>\n",
       "  <tbody>\n",
       "    <tr>\n",
       "      <th>0</th>\n",
       "      <td>20</td>\n",
       "      <td>0</td>\n",
       "      <td>0</td>\n",
       "      <td>0</td>\n",
       "    </tr>\n",
       "    <tr>\n",
       "      <th>1</th>\n",
       "      <td>0</td>\n",
       "      <td>0</td>\n",
       "      <td>20</td>\n",
       "      <td>0</td>\n",
       "    </tr>\n",
       "    <tr>\n",
       "      <th>2</th>\n",
       "      <td>0</td>\n",
       "      <td>9</td>\n",
       "      <td>0</td>\n",
       "      <td>11</td>\n",
       "    </tr>\n",
       "  </tbody>\n",
       "</table>\n",
       "</div>"
      ],
      "text/plain": [
       "k=4     0  1   2   3\n",
       "truth               \n",
       "0      20  0   0   0\n",
       "1       0  0  20   0\n",
       "2       0  9   0  11"
      ]
     },
     "execution_count": 255,
     "metadata": {},
     "output_type": "execute_result"
    }
   ],
   "source": [
    "# 1d) Perform k-means using K = 4\n",
    "kmeans_k_4 = KMeans(n_clusters = 4,random_state=8)\n",
    "kmeans_k_4.fit(X)\n",
    "cluster_df['k=4'] = kmeans_k_4.predict(X)\n",
    "\n",
    "pd.crosstab(cluster_df['truth'],cluster_df['k=4'])"
   ]
  },
  {
   "cell_type": "markdown",
   "metadata": {},
   "source": [
    "From this contigency table, we see the k-means clustering algorithm with 4 clusters overperformed. The truth clusters of 0 and 1 fall perfectly into the k-means clusters of 0 and 2. However, the truth cluster of 1 is split into 2 separate clusters in the k-means of 1 and 3."
   ]
  },
  {
   "cell_type": "markdown",
   "metadata": {},
   "source": [
    "### 1e) Perform K-means clustering with K = 3 on the data after scaling each variable to have standard deviation one. How do these results compare to those obtained in (c)? Explain"
   ]
  },
  {
   "cell_type": "code",
   "execution_count": 256,
   "metadata": {
    "scrolled": true
   },
   "outputs": [
    {
     "data": {
      "text/html": [
       "<div>\n",
       "<style scoped>\n",
       "    .dataframe tbody tr th:only-of-type {\n",
       "        vertical-align: middle;\n",
       "    }\n",
       "\n",
       "    .dataframe tbody tr th {\n",
       "        vertical-align: top;\n",
       "    }\n",
       "\n",
       "    .dataframe thead th {\n",
       "        text-align: right;\n",
       "    }\n",
       "</style>\n",
       "<table border=\"1\" class=\"dataframe\">\n",
       "  <thead>\n",
       "    <tr style=\"text-align: right;\">\n",
       "      <th>norm_k=3</th>\n",
       "      <th>0</th>\n",
       "      <th>1</th>\n",
       "      <th>2</th>\n",
       "    </tr>\n",
       "    <tr>\n",
       "      <th>truth</th>\n",
       "      <th></th>\n",
       "      <th></th>\n",
       "      <th></th>\n",
       "    </tr>\n",
       "  </thead>\n",
       "  <tbody>\n",
       "    <tr>\n",
       "      <th>0</th>\n",
       "      <td>20</td>\n",
       "      <td>0</td>\n",
       "      <td>0</td>\n",
       "    </tr>\n",
       "    <tr>\n",
       "      <th>1</th>\n",
       "      <td>0</td>\n",
       "      <td>0</td>\n",
       "      <td>20</td>\n",
       "    </tr>\n",
       "    <tr>\n",
       "      <th>2</th>\n",
       "      <td>0</td>\n",
       "      <td>20</td>\n",
       "      <td>0</td>\n",
       "    </tr>\n",
       "  </tbody>\n",
       "</table>\n",
       "</div>"
      ],
      "text/plain": [
       "norm_k=3   0   1   2\n",
       "truth               \n",
       "0         20   0   0\n",
       "1          0   0  20\n",
       "2          0  20   0"
      ]
     },
     "execution_count": 256,
     "metadata": {},
     "output_type": "execute_result"
    }
   ],
   "source": [
    "scaler = StandardScaler()\n",
    "scaler.fit(X)\n",
    "X_scale = scaler.transform(X)\n",
    "\n",
    "kmeans_k_3_scale = KMeans(n_clusters = 3,random_state=8)\n",
    "kmeans_k_3_scale.fit(X_scale)\n",
    "\n",
    "cluster_df['norm_k=3'] = kmeans_k_3_scale.predict(X_scale)\n",
    "\n",
    "pd.crosstab(cluster_df['truth'],cluster_df['norm_k=3'])"
   ]
  },
  {
   "cell_type": "markdown",
   "metadata": {},
   "source": [
    "After scaling the data and using 3 clusters for the k-means algorithm, it seems that the truth clusters and the predict k-means cluster are perfectly separated into three distinct clusters that are exactly the same as the results from 1b."
   ]
  },
  {
   "cell_type": "markdown",
   "metadata": {},
   "source": [
    "## 2) Heirarchical Clustering\n",
    "Use the gene expression data in ‘Ch10Ex11.csv’. This is gene expression data that consists of 40 tissue samples with measurements on 1,000 genes. The first 20 samples are from healthy patients, while the second 20 are from a diseased group."
   ]
  },
  {
   "cell_type": "markdown",
   "metadata": {},
   "source": [
    "### 2a) Load the data – note that there is no header so you will need to read this in without one. "
   ]
  },
  {
   "cell_type": "code",
   "execution_count": 257,
   "metadata": {},
   "outputs": [],
   "source": [
    "# Load the dataset with no header\n",
    "gene_data = pd.read_csv('Ch10Ex11.csv', header = None)\n",
    "# Transpose the data so the genes are the features instead of the samples\n",
    "gene_data = gene_data.transpose()"
   ]
  },
  {
   "cell_type": "markdown",
   "metadata": {},
   "source": [
    "### 2b) Apply hierarchical clustering to the samples. Use all combinations of correlation and Euclidian distance with single, average and complete linkage. Plot the dendrograms. Do the genes separate the samples into the two groups? Do the results change with distance and linkage? How? "
   ]
  },
  {
   "cell_type": "markdown",
   "metadata": {},
   "source": [
    "#### Linkage = Complete | Metric = Euclidean"
   ]
  },
  {
   "cell_type": "code",
   "execution_count": 258,
   "metadata": {
    "scrolled": false
   },
   "outputs": [
    {
     "data": {
      "image/png": "[encoded data removed]",
      "text/plain": [
       "<Figure size 432x288 with 1 Axes>"
      ]
     },
     "metadata": {
      "needs_background": "light"
     },
     "output_type": "display_data"
    }
   ],
   "source": [
    "eluc_complete = shc.dendrogram(shc.linkage(gene_data, metric = 'euclidean', method = 'complete'))\n",
    "plt.xlabel('Sample Number')\n",
    "plt.ylabel('Euclidean Distance')\n",
    "plt.title('Linkage = Complete | Metric = Euclidean')\n",
    "plt.show()"
   ]
  },
  {
   "cell_type": "markdown",
   "metadata": {},
   "source": [
    "This heirarchical clustering method using the 'complete' linkage method and 'euclidean' as the metric shows that there are two clusters at a distance around 50."
   ]
  },
  {
   "cell_type": "markdown",
   "metadata": {},
   "source": [
    "#### Linkage = Single | Metric = Euclidean"
   ]
  },
  {
   "cell_type": "code",
   "execution_count": 259,
   "metadata": {
    "scrolled": true
   },
   "outputs": [
    {
     "data": {
      "image/png": "[encoded data removed]",
      "text/plain": [
       "<Figure size 432x288 with 1 Axes>"
      ]
     },
     "metadata": {
      "needs_background": "light"
     },
     "output_type": "display_data"
    }
   ],
   "source": [
    "eluc_single = shc.dendrogram(shc.linkage(gene_data, metric = 'euclidean', method = 'single'))\n",
    "plt.xlabel('Sample Number')\n",
    "plt.ylabel('Euclidean Distance')\n",
    "plt.title('Linkage = Single | Metric = Euclidean')\n",
    "plt.show()"
   ]
  },
  {
   "cell_type": "markdown",
   "metadata": {},
   "source": [
    "This heirarchical clustering method using the 'single' linkage method and 'euclidean' as the metric shows that there are two clusters at a distance around 47-50."
   ]
  },
  {
   "cell_type": "markdown",
   "metadata": {},
   "source": [
    "#### Linkage = Average | Metric = Euclidean"
   ]
  },
  {
   "cell_type": "code",
   "execution_count": 260,
   "metadata": {
    "scrolled": false
   },
   "outputs": [
    {
     "data": {
      "image/png": "[encoded data removed]",
      "text/plain": [
       "<Figure size 432x288 with 1 Axes>"
      ]
     },
     "metadata": {
      "needs_background": "light"
     },
     "output_type": "display_data"
    }
   ],
   "source": [
    "eluc_average = shc.dendrogram(shc.linkage(gene_data, metric = 'euclidean', method = 'average'))\n",
    "plt.xlabel('Sample Number')\n",
    "plt.ylabel('Euclidean Distance')\n",
    "plt.title('Linkage = Average | Metric = Euclidean')\n",
    "plt.show()"
   ]
  },
  {
   "cell_type": "markdown",
   "metadata": {},
   "source": [
    "This heirarchical clustering method using the 'average' linkage method and 'euclidean' as the metric shows that there are two clusters at a distance around 48."
   ]
  },
  {
   "cell_type": "markdown",
   "metadata": {},
   "source": [
    "#### Linkage = Complete | Metric = Correlation"
   ]
  },
  {
   "cell_type": "code",
   "execution_count": 261,
   "metadata": {
    "scrolled": true
   },
   "outputs": [
    {
     "data": {
      "image/png": "[encoded data removed]",
      "text/plain": [
       "<Figure size 432x288 with 1 Axes>"
      ]
     },
     "metadata": {
      "needs_background": "light"
     },
     "output_type": "display_data"
    }
   ],
   "source": [
    "corr_complete = shc.dendrogram(shc.linkage(gene_data, metric = 'correlation', method = 'complete'))\n",
    "plt.xlabel('Sample Number')\n",
    "plt.ylabel('Correlation')\n",
    "plt.title('Linkage = Complete | Metric = Correlation')\n",
    "plt.show()"
   ]
  },
  {
   "cell_type": "code",
   "execution_count": 262,
   "metadata": {
    "scrolled": true
   },
   "outputs": [
    {
     "data": {
      "image/png": "[encoded data removed]",
      "text/plain": [
       "<Figure size 432x288 with 1 Axes>"
      ]
     },
     "metadata": {
      "needs_background": "light"
     },
     "output_type": "display_data"
    }
   ],
   "source": [
    "corr_complete = shc.dendrogram(shc.linkage(gene_data, metric = 'correlation', method = 'complete'))\n",
    "plt.xlabel('Sample Number')\n",
    "plt.ylabel('Correlation')\n",
    "plt.title('Linkage = Complete | Metric = Correlation')\n",
    "plt.ylim([0.7,1.2])\n",
    "plt.show()"
   ]
  },
  {
   "cell_type": "markdown",
   "metadata": {},
   "source": [
    "This heirarchical clustering method using the 'complete' linkage method and 'correlation' as the metric shows that there are two clusters above a value of 1, which doesn't make sense because you cannot have a correlation value > 1 or < -1"
   ]
  },
  {
   "cell_type": "markdown",
   "metadata": {},
   "source": [
    "#### Linkage = Single | Metric = Correlation"
   ]
  },
  {
   "cell_type": "code",
   "execution_count": 263,
   "metadata": {
    "scrolled": true
   },
   "outputs": [
    {
     "data": {
      "text/plain": [
       "Text(0.5, 1.0, 'Linkage = Single | Metric = Correlation')"
      ]
     },
     "execution_count": 263,
     "metadata": {},
     "output_type": "execute_result"
    },
    {
     "data": {
      "image/png": "[encoded data removed]",
      "text/plain": [
       "<Figure size 432x288 with 1 Axes>"
      ]
     },
     "metadata": {
      "needs_background": "light"
     },
     "output_type": "display_data"
    }
   ],
   "source": [
    "corr_single = shc.dendrogram(shc.linkage(gene_data, metric = 'correlation', method = 'single'))\n",
    "plt.xlabel('Sample Number')\n",
    "plt.ylabel('Correlation')\n",
    "plt.title('Linkage = Single | Metric = Correlation')"
   ]
  },
  {
   "cell_type": "code",
   "execution_count": 264,
   "metadata": {
    "scrolled": true
   },
   "outputs": [
    {
     "data": {
      "image/png": "[encoded data removed]",
      "text/plain": [
       "<Figure size 432x288 with 1 Axes>"
      ]
     },
     "metadata": {
      "needs_background": "light"
     },
     "output_type": "display_data"
    }
   ],
   "source": [
    "corr_single = shc.dendrogram(shc.linkage(gene_data, metric = 'correlation', method = 'single'))\n",
    "plt.xlabel('Sample Number')\n",
    "plt.ylabel('Correlation')\n",
    "plt.title('Linkage = Single | Metric = Correlation')\n",
    "plt.ylim([0.6,1.05])\n",
    "plt.show()"
   ]
  },
  {
   "cell_type": "markdown",
   "metadata": {},
   "source": [
    "This heirarchical clustering method using the 'single' linkage method and 'correlation' as the metric does not show two distinct clusters "
   ]
  },
  {
   "cell_type": "markdown",
   "metadata": {},
   "source": [
    "#### Linkage = Average | Metric = Correlation"
   ]
  },
  {
   "cell_type": "code",
   "execution_count": 265,
   "metadata": {
    "scrolled": true
   },
   "outputs": [
    {
     "data": {
      "image/png": "[encoded data removed]",
      "text/plain": [
       "<Figure size 432x288 with 1 Axes>"
      ]
     },
     "metadata": {
      "needs_background": "light"
     },
     "output_type": "display_data"
    }
   ],
   "source": [
    "corr_average = shc.dendrogram(shc.linkage(gene_data, metric = 'correlation', method = 'average'))\n",
    "plt.xlabel('Sample Number')\n",
    "plt.ylabel('Correlation')\n",
    "plt.title('Linkage = Average | Metric = Correlation')\n",
    "plt.show()"
   ]
  },
  {
   "cell_type": "code",
   "execution_count": 266,
   "metadata": {
    "scrolled": false
   },
   "outputs": [
    {
     "data": {
      "image/png": "[encoded data removed]",
      "text/plain": [
       "<Figure size 432x288 with 1 Axes>"
      ]
     },
     "metadata": {
      "needs_background": "light"
     },
     "output_type": "display_data"
    }
   ],
   "source": [
    "corr_average = shc.dendrogram(shc.linkage(gene_data, metric = 'correlation', method = 'average'))\n",
    "plt.xlabel('Sample Number')\n",
    "plt.ylabel('Correlation')\n",
    "plt.title('Linkage = Average | Metric = Correlation')\n",
    "plt.ylim([0.75,1.05])\n",
    "plt.show()"
   ]
  },
  {
   "cell_type": "markdown",
   "metadata": {},
   "source": [
    "**Answer:**\n",
    "\n",
    "The hierarchical clustering methods using Euclidean distance have two distinct clusters around a distance of 45 across all the difference linkage methods. However, it's not as clear with the clustering methods that use correlation as the metric to create two distance clusters. With the correlation metric, one can identify two clusters when using a correlation value greater 1, which doesn't make much sense, so I would argue the correlation matrix does a worse job producing two separate clusters."
   ]
  }
 ],
 "metadata": {
  "kernelspec": {
   "display_name": "Python 3",
   "language": "python",
   "name": "python3"
  },
  "language_info": {
   "codemirror_mode": {
    "name": "ipython",
    "version": 3
   },
   "file_extension": ".py",
   "mimetype": "text/x-python",
   "name": "python",
   "nbconvert_exporter": "python",
   "pygments_lexer": "ipython3",
   "version": "3.8.3"
  },
  "varInspector": {
   "cols": {
    "lenName": 16,
    "lenType": 16,
    "lenVar": 40
   },
   "kernels_config": {
    "python": {
     "delete_cmd_postfix": "",
     "delete_cmd_prefix": "del ",
     "library": "var_list.py",
     "varRefreshCmd": "print(var_dic_list())"
    },
    "r": {
     "delete_cmd_postfix": ") ",
     "delete_cmd_prefix": "rm(",
     "library": "var_list.r",
     "varRefreshCmd": "cat(var_dic_list()) "
    }
   },
   "types_to_exclude": [
    "module",
    "function",
    "builtin_function_or_method",
    "instance",
    "_Feature"
   ],
   "window_display": false
  }
 },
 "nbformat": 4,
 "nbformat_minor": 4
}
